{
  "cells": [
    {
      "cell_type": "markdown",
      "metadata": {
        "id": "4mB_sFildiDh"
      },
      "source": [
        "<a href=\"https://colab.research.google.com/github/jeffheaton/present/blob/master/youtube/gan/gans_scratch.ipynb\" target=\"_parent\"><img src=\"https://colab.research.google.com/assets/colab-badge.svg\" alt=\"Open In Colab\"/></a>"
      ]
    },
    {
      "cell_type": "markdown",
      "metadata": {
        "id": "303iHntmdiDj"
      },
      "source": [
        "# Creating GANs From Scratch\n",
        "\n",
        "* [Jeff Heaton](https://sites.wustl.edu/jeffheaton/), McKelvey School of Engineering, [Washington University in St. Louis](https://engineering.wustl.edu/Programs/Pages/default.aspx)\n",
        "* Video: [GANs from Scratch](https://www.youtube.com/watch?v=T-MCludVNn4)"
      ]
    },
    {
      "cell_type": "code",
      "execution_count": null,
      "metadata": {
        "id": "zgMWBuf61OmL"
      },
      "outputs": [],
      "source": [
        "# Nicely formatted time string\n",
        "def hms_string(sec_elapsed):\n",
        "    h = int(sec_elapsed / (60 * 60))\n",
        "    m = int((sec_elapsed % (60 * 60)) / 60)\n",
        "    s = sec_elapsed % 60\n",
        "    return \"{}:{:>02}:{:>05.2f}\".format(h, m, s)"
      ]
    },
    {
      "cell_type": "markdown",
      "metadata": {
        "id": "1yqlUD4sdiDk"
      },
      "source": [
        "# Implementing DCGANs in Keras\n",
        "\n",
        "Paper that described the type of DCGAN that we will create in this module. [[Cite:radford2015unsupervised]](https://arxiv.org/abs/1511.06434) This paper implements a DCGAN as follows:\n",
        "\n",
        "* No pre-processing was applied to training images besides scaling to the range of the tanh activation function [-1, 1]. \n",
        "* All models were trained with mini-batch stochastic gradient descent (SGD) with a mini-batch size of 128. \n",
        "* All weights were initialized from a zero-centered Normal distribution with standard deviation 0.02. \n",
        "* In the LeakyReLU, the slope of the leak was set to 0.2 in all models.\n",
        "* we used the Adam optimizer(Kingma & Ba, 2014) with tuned hyperparameters. We found the suggested learning rate of 0.001, to be too high, using 0.0002 instead. \n",
        "* Additionally, we found leaving the momentum term $\\beta{1}$ at the suggested value of 0.9 resulted in training oscillation and instability while reducing it to 0.5 helped stabilize training.\n",
        "\n",
        "The paper also provides the following architecture guidelines for stable Deep Convolutional GANs:\n",
        "\n",
        "* Replace any pooling layers with strided convolutions (discriminator) and fractional-strided convolutions (generator).\n",
        "* Use batchnorm in both the generator and the discriminator.\n",
        "* Remove fully connected hidden layers for deeper architectures.\n",
        "* Use ReLU activation in generator for all layers except for the output, which uses Tanh.\n",
        "* Use LeakyReLU activation in the discriminator for all layers.\n",
        "\n",
        "While creating the material for this module I used a number of Internet resources, some of the most helpful were:\n",
        "\n",
        "* [Deep Convolutional Generative Adversarial Network (TensorFlow 2.0 example code)](https://www.tensorflow.org/tutorials/generative/dcgan)\n",
        "* [Keep Calm and train a GAN. Pitfalls and Tips on training Generative Adversarial Networks](https://medium.com/@utk.is.here/keep-calm-and-train-a-gan-pitfalls-and-tips-on-training-generative-adversarial-networks-edd529764aa9)\n",
        "* [Collection of Keras implementations of Generative Adversarial Networks GANs](https://github.com/eriklindernoren/Keras-GAN)\n",
        "* [dcgan-facegenerator](https://github.com/platonovsimeon/dcgan-facegenerator), [Semi-Paywalled Article by GitHub Author](https://medium.com/datadriveninvestor/generating-human-faces-with-keras-3ccd54c17f16)\n",
        "\n",
        "The program created next will generate faces similar to these.  While these faces are not perfect, they demonstrate how we can construct and train a GAN on or own.  Later we will see how to import very advanced weights from nVidia to produce high resolution, realistic looking faces. Figure 7.GAN-GRID shows images from GAN training.\n",
        "\n",
        "**Figure 7.GAN-GRID: GAN Neural Network Training**\n",
        "![GAN](https://raw.githubusercontent.com/jeffheaton/t81_558_deep_learning/master/images/gan-3.png \"GAN Images\")\n",
        "\n",
        "As discussed in the previous module, the GAN is made up of two different neural networks: the discriminator and the generator.  The generator generates the images, while the discriminator detects if a face is real or was generated.  These two neural networks work as shown in Figure 7.GAN-EVAL:\n",
        "\n",
        "**Figure 7.GAN-EVAL: Evaluating GANs**\n",
        "![GAN](https://raw.githubusercontent.com/jeffheaton/t81_558_deep_learning/master/images/gan_fig_1.png \"GAN\")\n",
        "\n",
        "The discriminator accepts an image as its input and produces number that is the probability of the input image being real.  The generator accepts a random seed vector and generates an image from that random vector seed. An unlimited number of new images can be created by providing additional seeds."
      ]
    },
    {
      "cell_type": "markdown",
      "metadata": {
        "id": "SpCjlQyEdiDo"
      },
      "source": [
        "I suggest running this code with a GPU, it will be very slow on a CPU alone.  The following code mounts your Google drive for use with Google CoLab.  If you are not using CoLab, the following code will not work."
      ]
    },
    {
      "cell_type": "code",
      "execution_count": null,
      "metadata": {
        "colab": {
          "base_uri": "https://localhost:8080/"
        },
        "id": "Y8_-1h5ddiDp",
        "outputId": "f5793e21-19b2-4c01-ca8d-cacfdcc6202d"
      },
      "outputs": [
        {
          "output_type": "stream",
          "name": "stdout",
          "text": [
            "Mounted at /content/drive\n",
            "Note: using Google CoLab\n"
          ]
        }
      ],
      "source": [
        "try:\n",
        "    from google.colab import drive\n",
        "    drive.mount('/content/drive', force_remount=True)\n",
        "    COLAB = True\n",
        "    print(\"Note: using Google CoLab\")\n",
        "    %tensorflow_version 2.x\n",
        "except:\n",
        "    print(\"Note: not using Google CoLab\")\n",
        "    COLAB = False"
      ]
    },
    {
      "cell_type": "code",
      "source": [
        "# #unzip\n",
        "# !unzip '/content/drive/My Drive/projects/faces/archive.zip' -d '/content/drive/My Drive/projects/faces/face_images'"
      ],
      "metadata": {
        "id": "x7DaQIyC9C8x"
      },
      "execution_count": null,
      "outputs": []
    },
    {
      "cell_type": "markdown",
      "metadata": {
        "id": "BeVAWGHOdiDl"
      },
      "source": [
        "The following packages will be used to implement a basic GAN system in Python/Keras."
      ]
    },
    {
      "cell_type": "code",
      "execution_count": null,
      "metadata": {
        "id": "KubxTY1mdiDm"
      },
      "outputs": [],
      "source": [
        "import tensorflow as tf\n",
        "from tensorflow.keras.layers import Input, Reshape, Dropout, Dense \n",
        "from tensorflow.keras.layers import Flatten, BatchNormalization\n",
        "from tensorflow.keras.layers import Activation, ZeroPadding2D\n",
        "from tensorflow.keras.layers import LeakyReLU\n",
        "from tensorflow.keras.layers import UpSampling2D, Conv2D\n",
        "from tensorflow.keras.models import Sequential, Model, load_model\n",
        "from tensorflow.keras.optimizers import Adam\n",
        "import numpy as np\n",
        "from PIL import Image\n",
        "from tqdm import tqdm\n",
        "import os \n",
        "import time\n",
        "import matplotlib.pyplot as plt"
      ]
    },
    {
      "cell_type": "markdown",
      "metadata": {
        "id": "X9uwIRYJdiDr"
      },
      "source": [
        "These are the constants that define how the GANs will be created for this example.  The higher the resolution, the more memory that will be needed.  Higher resolution will also result in longer run times.  For Google CoLab (with GPU) 128x128 resolution is as high as can be used (due to memory).  Note that the resolution is specified as a multiple of 32.  So **GENERATE_RES** of 1 is 32, 2 is 64, etc.\n",
        "\n",
        "To run this you will need training data.  The training data can be any collection of images.  I have used various sources of data for this example over the years.  Data sources sometimes become unavailable for copyright reasons. I have one sample source listed below.  Simply unzip and combine to a common directory.  This directory should be uploaded to Google Drive (if you are using CoLab). The constant **DATA_PATH** defines where these images are stored.\n",
        "\n",
        "One sample dataset of faces can be found here:\n",
        "\n",
        "* [Kaggle Faces Data New](https://www.kaggle.com/gasgallo/faces-data-new)"
      ]
    },
    {
      "cell_type": "code",
      "execution_count": null,
      "metadata": {
        "colab": {
          "base_uri": "https://localhost:8080/"
        },
        "id": "tb_XblE7diDr",
        "outputId": "2ac5619a-3958-413f-c9ec-adb8e9306fc1"
      },
      "outputs": [
        {
          "output_type": "stream",
          "name": "stdout",
          "text": [
            "Will generate 96px square images.\n"
          ]
        }
      ],
      "source": [
        "# Generation resolution - Must be square \n",
        "# Training data is also scaled to this.\n",
        "# Note GENERATE_RES 4 or higher  \n",
        "# will blow Google CoLab's memory and have not\n",
        "# been tested extensivly.\n",
        "GENERATE_RES = 3 # Generation resolution factor \n",
        "# (1=32, 2=64, 3=96, 4=128, etc.)\n",
        "GENERATE_SQUARE = 32 * GENERATE_RES # rows/cols (should be square)\n",
        "IMAGE_CHANNELS = 3\n",
        "\n",
        "# Preview image \n",
        "PREVIEW_ROWS = 4\n",
        "PREVIEW_COLS = 7\n",
        "PREVIEW_MARGIN = 16\n",
        "\n",
        "# Size vector to generate images from\n",
        "SEED_SIZE = 100\n",
        "\n",
        "# Configuration\n",
        "DATA_PATH = '/content/drive/My Drive/projects/faces'\n",
        "EPOCHS = 200\n",
        "BATCH_SIZE = 254\n",
        "BUFFER_SIZE = 60000\n",
        "\n",
        "print(f\"Will generate {GENERATE_SQUARE}px square images.\")"
      ]
    },
    {
      "cell_type": "markdown",
      "metadata": {
        "id": "oDTfFQjTdiDu"
      },
      "source": [
        "Next we will load and preprocess the images.  This can take awhile.  Google CoLab took around an hour to process.  Because of this we store the processed file as a binary.  This way we can simply reload the processed training data and quickly use it.  It is most efficient to only perform this operation once.  The dimensions of the image are encoded into the filename of the binary file because we need to regenerate it if these change."
      ]
    },
    {
      "cell_type": "code",
      "execution_count": null,
      "metadata": {
        "colab": {
          "base_uri": "https://localhost:8080/"
        },
        "id": "dJ69ALfSdiDv",
        "outputId": "837826ef-2e3a-4c2c-b78e-9297f46e04bf"
      },
      "outputs": [
        {
          "output_type": "stream",
          "name": "stdout",
          "text": [
            "Looking for file: /content/drive/My Drive/projects/faces/training_data_96_96.npy\n",
            "Loading previous training pickle...\n"
          ]
        }
      ],
      "source": [
        "# Image set has 11,682 images.  Can take over an hour \n",
        "# for initial preprocessing.\n",
        "# Because of this time needed, save a Numpy preprocessed file.\n",
        "# Note, that file is large enough to cause problems for \n",
        "# sume verisons of Pickle,\n",
        "# so Numpy binary files are used.\n",
        "training_binary_path = os.path.join(DATA_PATH,\n",
        "        f'training_data_{GENERATE_SQUARE}_{GENERATE_SQUARE}.npy')\n",
        "\n",
        "print(f\"Looking for file: {training_binary_path}\")\n",
        "\n",
        "if not os.path.isfile(training_binary_path):\n",
        "  start = time.time()\n",
        "  print(\"Loading training images...\")\n",
        "\n",
        "  training_data = []\n",
        "  faces_path = os.path.join(DATA_PATH,'face_images/images')\n",
        "  for filename in tqdm(os.listdir(faces_path)):\n",
        "      path = os.path.join(faces_path,filename)\n",
        "      image = Image.open(path).resize((GENERATE_SQUARE,\n",
        "            GENERATE_SQUARE),Image.ANTIALIAS)\n",
        "      training_data.append(np.asarray(image))\n",
        "  training_data = np.reshape(training_data,(-1,GENERATE_SQUARE,\n",
        "            GENERATE_SQUARE,IMAGE_CHANNELS))\n",
        "  training_data = training_data.astype(np.float32)\n",
        "  training_data = training_data / 127.5 - 1.\n",
        "\n",
        "\n",
        "  print(\"Saving training image binary...\")\n",
        "  np.save(training_binary_path,training_data)\n",
        "  elapsed = time.time()-start\n",
        "  print (f'Image preprocess time: {hms_string(elapsed)}')\n",
        "else:\n",
        "  print(\"Loading previous training pickle...\")\n",
        "  training_data = np.load(training_binary_path)"
      ]
    },
    {
      "cell_type": "markdown",
      "metadata": {
        "id": "Y9kO_iSRyixQ"
      },
      "source": [
        "We will use a TensorFlow **Dataset** object to actually hold the images.  This allows the data to be quickly shuffled int divided into the appropriate batch sizes for training.  "
      ]
    },
    {
      "cell_type": "code",
      "execution_count": null,
      "metadata": {
        "id": "BXl0JohJBx69"
      },
      "outputs": [],
      "source": [
        "# Batch and shuffle the data\n",
        "train_dataset = tf.data.Dataset.from_tensor_slices(training_data) \\\n",
        "    .shuffle(BUFFER_SIZE).batch(BATCH_SIZE)"
      ]
    },
    {
      "cell_type": "markdown",
      "metadata": {
        "id": "2dATyXqQdiDw"
      },
      "source": [
        "The code below creates the generator and discriminator."
      ]
    },
    {
      "cell_type": "markdown",
      "metadata": {
        "id": "zB_aX4ChdiD0"
      },
      "source": [
        "Next we actually build the discriminator and the generator.  Both will be trained with the Adam optimizer."
      ]
    },
    {
      "cell_type": "code",
      "execution_count": null,
      "metadata": {
        "id": "Ulou-BZPybzT"
      },
      "outputs": [],
      "source": [
        "def build_generator(seed_size, channels):\n",
        "    model = Sequential()\n",
        "\n",
        "    model.add(Dense(4*4*256,activation=\"relu\",input_dim=seed_size))\n",
        "    model.add(Reshape((4,4,256)))\n",
        "\n",
        "    model.add(UpSampling2D())\n",
        "    model.add(Conv2D(256,kernel_size=3,padding=\"same\"))\n",
        "    model.add(BatchNormalization(momentum=0.8))\n",
        "    model.add(Activation(\"relu\"))\n",
        "\n",
        "    model.add(UpSampling2D())\n",
        "    model.add(Conv2D(256,kernel_size=3,padding=\"same\"))\n",
        "    model.add(BatchNormalization(momentum=0.8))\n",
        "    model.add(Activation(\"relu\"))\n",
        "   \n",
        "    # Output resolution, additional upsampling\n",
        "    model.add(UpSampling2D())\n",
        "    model.add(Conv2D(128,kernel_size=3,padding=\"same\"))\n",
        "    model.add(BatchNormalization(momentum=0.8))\n",
        "    model.add(Activation(\"relu\"))\n",
        "\n",
        "    if GENERATE_RES>1:\n",
        "      model.add(UpSampling2D(size=(GENERATE_RES,GENERATE_RES)))\n",
        "      model.add(Conv2D(128,kernel_size=3,padding=\"same\"))\n",
        "      model.add(BatchNormalization(momentum=0.8))\n",
        "      model.add(Activation(\"relu\"))\n",
        "\n",
        "    # Final CNN layer\n",
        "    model.add(Conv2D(channels,kernel_size=3,padding=\"same\"))\n",
        "    model.add(Activation(\"tanh\"))\n",
        "\n",
        "    return model\n",
        "\n",
        "\n",
        "def build_discriminator(image_shape):\n",
        "    model = Sequential()\n",
        "\n",
        "    model.add(Conv2D(32, kernel_size=3, strides=2, input_shape=image_shape, \n",
        "                     padding=\"same\"))\n",
        "    model.add(LeakyReLU(alpha=0.2))\n",
        "\n",
        "    model.add(Dropout(0.25))\n",
        "    model.add(Conv2D(64, kernel_size=3, strides=2, padding=\"same\"))\n",
        "    model.add(ZeroPadding2D(padding=((0,1),(0,1))))\n",
        "    model.add(BatchNormalization(momentum=0.8))\n",
        "    model.add(LeakyReLU(alpha=0.2))\n",
        "\n",
        "    model.add(Dropout(0.25))\n",
        "    model.add(Conv2D(128, kernel_size=3, strides=2, padding=\"same\"))\n",
        "    model.add(BatchNormalization(momentum=0.8))\n",
        "    model.add(LeakyReLU(alpha=0.2))\n",
        "\n",
        "    model.add(Dropout(0.25))\n",
        "    model.add(Conv2D(256, kernel_size=3, strides=1, padding=\"same\"))\n",
        "    model.add(BatchNormalization(momentum=0.8))\n",
        "    model.add(LeakyReLU(alpha=0.2))\n",
        "\n",
        "    model.add(Dropout(0.25))\n",
        "    model.add(Conv2D(512, kernel_size=3, strides=1, padding=\"same\"))\n",
        "    model.add(BatchNormalization(momentum=0.8))\n",
        "    model.add(LeakyReLU(alpha=0.2))\n",
        "\n",
        "    model.add(Dropout(0.25))\n",
        "    model.add(Flatten())\n",
        "    model.add(Dense(1, activation='sigmoid'))\n",
        "\n",
        "    return model"
      ]
    },
    {
      "cell_type": "markdown",
      "metadata": {
        "id": "2kxKk7uDOnPS"
      },
      "source": [
        "As we progress through training images will be produced to show the progress.  These images will contain a number of rendered faces that show how good the generator has become.  These faces will be "
      ]
    },
    {
      "cell_type": "code",
      "execution_count": null,
      "metadata": {
        "id": "UKnCeDut2cp0"
      },
      "outputs": [],
      "source": [
        "def save_images(cnt,noise):\n",
        "  image_array = np.full(( \n",
        "      PREVIEW_MARGIN + (PREVIEW_ROWS * (GENERATE_SQUARE+PREVIEW_MARGIN)), \n",
        "      PREVIEW_MARGIN + (PREVIEW_COLS * (GENERATE_SQUARE+PREVIEW_MARGIN)), IMAGE_CHANNELS), \n",
        "      255, dtype=np.uint8)\n",
        "  \n",
        "  generated_images = generator.predict(noise)\n",
        "\n",
        "  generated_images = 0.5 * generated_images + 0.5\n",
        "\n",
        "  image_count = 0\n",
        "  for row in range(PREVIEW_ROWS):\n",
        "      for col in range(PREVIEW_COLS):\n",
        "        r = row * (GENERATE_SQUARE+16) + PREVIEW_MARGIN\n",
        "        c = col * (GENERATE_SQUARE+16) + PREVIEW_MARGIN\n",
        "        image_array[r:r+GENERATE_SQUARE,c:c+GENERATE_SQUARE] \\\n",
        "            = generated_images[image_count] * 255\n",
        "        image_count += 1\n",
        "\n",
        "          \n",
        "  output_path = os.path.join(DATA_PATH,'output')\n",
        "  if not os.path.exists(output_path):\n",
        "    os.makedirs(output_path)\n",
        "  \n",
        "  filename = os.path.join(output_path,f\"train-{cnt}.png\")\n",
        "  im = Image.fromarray(image_array)\n",
        "  im.save(filename)"
      ]
    },
    {
      "cell_type": "markdown",
      "metadata": {
        "id": "XiUbj3W4Oo3U"
      },
      "source": [
        ""
      ]
    },
    {
      "cell_type": "code",
      "execution_count": null,
      "metadata": {
        "colab": {
          "base_uri": "https://localhost:8080/",
          "height": 285
        },
        "id": "gL5byGhNzOzd",
        "outputId": "db0ff00f-418e-4ad6-b99b-8193f7ad606e"
      },
      "outputs": [
        {
          "output_type": "execute_result",
          "data": {
            "text/plain": [
              "<matplotlib.image.AxesImage at 0x7ff5e05c4650>"
            ]
          },
          "metadata": {},
          "execution_count": 10
        },
        {
          "output_type": "display_data",
          "data": {
            "text/plain": [
              "<Figure size 432x288 with 1 Axes>"
            ],
            "image/png": "[encoded data removed]"
          },
          "metadata": {
            "needs_background": "light"
          }
        }
      ],
      "source": [
        "generator = build_generator(SEED_SIZE, IMAGE_CHANNELS)\n",
        "\n",
        "noise = tf.random.normal([1, SEED_SIZE])\n",
        "generated_image = generator(noise, training=False)\n",
        "\n",
        "plt.imshow(generated_image[0, :, :, 0])"
      ]
    },
    {
      "cell_type": "markdown",
      "metadata": {
        "id": "nlxxEHDIOqjW"
      },
      "source": [
        ""
      ]
    },
    {
      "cell_type": "code",
      "execution_count": null,
      "metadata": {
        "colab": {
          "base_uri": "https://localhost:8080/"
        },
        "id": "LOnTxIXnyeEQ",
        "outputId": "1ea12b80-cde2-45a2-f51e-c9ab80d09820"
      },
      "outputs": [
        {
          "output_type": "stream",
          "name": "stdout",
          "text": [
            "tf.Tensor([[0.49987963]], shape=(1, 1), dtype=float32)\n"
          ]
        }
      ],
      "source": [
        "image_shape = (GENERATE_SQUARE,GENERATE_SQUARE,IMAGE_CHANNELS)\n",
        "\n",
        "discriminator = build_discriminator(image_shape)\n",
        "decision = discriminator(generated_image)\n",
        "print (decision)"
      ]
    },
    {
      "cell_type": "markdown",
      "metadata": {
        "id": "-ChOo3D1OsVc"
      },
      "source": [
        "Loss functions must be developed that allow the generator and discriminator to be trained in an adversarial way.  Because these two neural networks are being trained independently they must be trained in two separate passes.  This requires two separate loss functions and also two separate updates to the gradients.  When the discriminator's gradients are applied to decrease the discriminator's loss it is important that only the discriminator's weights are update.  It is not fair, nor will it produce good results, to adversarially damage the weights of the generator to help the discriminator.  A simple backpropagation would do this.  It would simultaneously affect the weights of both generator and discriminator to lower whatever loss it was assigned to lower.\n",
        "\n",
        "Figure 7.TDIS shows how the discriminator is trained.\n",
        "\n",
        "**Figure 7.TDIS: Training the Discriminator**\n",
        "![Training the Discriminator](https://raw.githubusercontent.com/jeffheaton/t81_558_deep_learning/master/images/gan_fig_2.png \"Training the Discriminator\")\n",
        "\n",
        "Here a training set is generated with an equal number of real and fake images.  The real images are randomly sampled (chosen) from the training data.  An equal number of random images are generated from random seeds.  For the discriminator training set, the $x$ contains the input images and the $y$ contains a value of 1 for real images and 0 for generated ones.\n",
        "\n",
        "Likewise, the Figure 7.TGEN shows how the generator is trained.\n",
        "\n",
        "**Figure 7.TGEN: Training the Generator**\n",
        "![Training the Generator](https://raw.githubusercontent.com/jeffheaton/t81_558_deep_learning/master/images/gan_fig_3.png \"Training the Generator\")\n",
        "\n",
        "For the generator training set, the $x$ contains the random seeds to generate images and the $y$ always contains the value of 1, because the optimal is for the generator to have generated such good images that the discriminiator was fooled into assigning them a probability near 1."
      ]
    },
    {
      "cell_type": "code",
      "execution_count": null,
      "metadata": {
        "id": "gBaP98zAySJV"
      },
      "outputs": [],
      "source": [
        "# This method returns a helper function to compute cross entropy loss\n",
        "cross_entropy = tf.keras.losses.BinaryCrossentropy()\n",
        "\n",
        "def discriminator_loss(real_output, fake_output):\n",
        "    real_loss = cross_entropy(tf.ones_like(real_output), real_output)\n",
        "    fake_loss = cross_entropy(tf.zeros_like(fake_output), fake_output)\n",
        "    total_loss = real_loss + fake_loss\n",
        "    return total_loss\n",
        "\n",
        "def generator_loss(fake_output):\n",
        "    return cross_entropy(tf.ones_like(fake_output), fake_output)"
      ]
    },
    {
      "cell_type": "markdown",
      "metadata": {
        "id": "gIlZvHGAxbWf"
      },
      "source": [
        "Both the generator and discriminator use Adam and the same learning rate and momentum.  This does not need to be the case.  If you use a **GENERATE_RES** greater than 3 you may need to tune these learning rates, as well as other training and hyperparameters.  "
      ]
    },
    {
      "cell_type": "code",
      "execution_count": null,
      "metadata": {
        "id": "79UDhOCa0R4h"
      },
      "outputs": [],
      "source": [
        "generator_optimizer = tf.keras.optimizers.Adam(1.5e-4,0.5)\n",
        "discriminator_optimizer = tf.keras.optimizers.Adam(1.5e-4,0.5)"
      ]
    },
    {
      "cell_type": "markdown",
      "metadata": {
        "id": "frCpCNn8yRcM"
      },
      "source": [
        "The following function is where most of the training takes place for both the discriminator and the generator.  This function was based on the GAN provided by the [TensorFlow Keras exmples](https://www.tensorflow.org/tutorials/generative/dcgan) documentation.  The first thing you should notice about this function is that it is annotated with the **tf.function** annotation.  This causes the function to be precompiled and improves performance.\n",
        "\n",
        "This function trans differently than the code we previously saw for training.  This code makes use of **GradientTape** to allow the discriminator and generator to be trained together, yet separately.  \n",
        "\n"
      ]
    },
    {
      "cell_type": "code",
      "execution_count": null,
      "metadata": {
        "id": "uzyh-LqU0j5d"
      },
      "outputs": [],
      "source": [
        "# Notice the use of `tf.function`\n",
        "# This annotation causes the function to be \"compiled\".\n",
        "@tf.function\n",
        "def train_step(images):\n",
        "  seed = tf.random.normal([BATCH_SIZE, SEED_SIZE])\n",
        "\n",
        "  with tf.GradientTape() as gen_tape, tf.GradientTape() as disc_tape:\n",
        "    generated_images = generator(seed, training=True)\n",
        "\n",
        "    real_output = discriminator(images, training=True)\n",
        "    fake_output = discriminator(generated_images, training=True)\n",
        "\n",
        "    gen_loss = generator_loss(fake_output)\n",
        "    disc_loss = discriminator_loss(real_output, fake_output)\n",
        "    \n",
        "\n",
        "    gradients_of_generator = gen_tape.gradient(\\\n",
        "        gen_loss, generator.trainable_variables)\n",
        "    gradients_of_discriminator = disc_tape.gradient(\\\n",
        "        disc_loss, discriminator.trainable_variables)\n",
        "\n",
        "    generator_optimizer.apply_gradients(zip(\n",
        "        gradients_of_generator, generator.trainable_variables))\n",
        "    discriminator_optimizer.apply_gradients(zip(\n",
        "        gradients_of_discriminator, \n",
        "        discriminator.trainable_variables))\n",
        "  return gen_loss,disc_loss"
      ]
    },
    {
      "cell_type": "code",
      "execution_count": null,
      "metadata": {
        "id": "NjrRgDR10lSF"
      },
      "outputs": [],
      "source": [
        "def train(dataset, epochs):\n",
        "  fixed_seed = np.random.normal(0, 1, (PREVIEW_ROWS * PREVIEW_COLS, \n",
        "                                       SEED_SIZE))\n",
        "  start = time.time()\n",
        "\n",
        "  for epoch in range(epochs):\n",
        "    epoch_start = time.time()\n",
        "\n",
        "    gen_loss_list = []\n",
        "    disc_loss_list = []\n",
        "\n",
        "    for image_batch in dataset:\n",
        "      t = train_step(image_batch)\n",
        "      gen_loss_list.append(t[0])\n",
        "      disc_loss_list.append(t[1])\n",
        "\n",
        "    g_loss = sum(gen_loss_list) / len(gen_loss_list)\n",
        "    d_loss = sum(disc_loss_list) / len(disc_loss_list)\n",
        "\n",
        "    epoch_elapsed = time.time()-epoch_start\n",
        "    print (f'Epoch {epoch+1}, gen loss={g_loss},disc loss={d_loss},'\\\n",
        "           f' {hms_string(epoch_elapsed)}')\n",
        "    save_images(epoch,fixed_seed)\n",
        "\n",
        "  elapsed = time.time()-start\n",
        "  print (f'Training time: {hms_string(elapsed)}')\n"
      ]
    },
    {
      "cell_type": "code",
      "execution_count": null,
      "metadata": {
        "colab": {
          "base_uri": "https://localhost:8080/"
        },
        "id": "vWmEHprD0t1V",
        "outputId": "70d58e6e-f2cf-429e-af73-39f2b6b7f0ac"
      },
      "outputs": [
        {
          "output_type": "stream",
          "name": "stdout",
          "text": [
            "Epoch 1, gen loss=11.820141792297363,disc loss=0.03583551570773125, 0:00:12.62\n",
            "Epoch 2, gen loss=12.064591407775879,disc loss=0.05571359023451805, 0:00:12.75\n",
            "Epoch 3, gen loss=12.587247848510742,disc loss=0.058134596794843674, 0:00:12.92\n",
            "Epoch 4, gen loss=12.870683670043945,disc loss=0.421866774559021, 0:00:12.91\n",
            "Epoch 5, gen loss=11.874146461486816,disc loss=0.08274255692958832, 0:00:12.76\n",
            "Epoch 6, gen loss=11.285865783691406,disc loss=0.07345473021268845, 0:00:12.74\n",
            "Epoch 7, gen loss=11.877720832824707,disc loss=0.08619515597820282, 0:00:12.73\n",
            "Epoch 8, gen loss=12.648554801940918,disc loss=0.04077291861176491, 0:00:12.77\n",
            "Epoch 9, gen loss=12.141498565673828,disc loss=0.04438399896025658, 0:00:12.76\n",
            "Epoch 10, gen loss=12.574902534484863,disc loss=0.0632077008485794, 0:00:12.76\n",
            "Epoch 11, gen loss=12.238516807556152,disc loss=0.04817839339375496, 0:00:12.76\n",
            "Epoch 12, gen loss=11.654404640197754,disc loss=0.0505911260843277, 0:00:12.75\n",
            "Epoch 13, gen loss=12.839620590209961,disc loss=0.0603402815759182, 0:00:12.76\n",
            "Epoch 14, gen loss=12.011489868164062,disc loss=0.05949714407324791, 0:00:12.75\n",
            "Epoch 15, gen loss=12.219141006469727,disc loss=0.07262945920228958, 0:00:12.74\n",
            "Epoch 16, gen loss=12.819634437561035,disc loss=0.06743060797452927, 0:00:12.76\n",
            "Epoch 17, gen loss=12.8009614944458,disc loss=0.08531958609819412, 0:00:12.76\n",
            "Epoch 18, gen loss=11.997113227844238,disc loss=0.04373916983604431, 0:00:12.78\n",
            "Epoch 19, gen loss=13.093091011047363,disc loss=0.09471330046653748, 0:00:12.76\n",
            "Epoch 20, gen loss=13.024968147277832,disc loss=0.057157937437295914, 0:00:12.76\n",
            "Epoch 21, gen loss=12.424917221069336,disc loss=0.055134065449237823, 0:00:12.75\n",
            "Epoch 22, gen loss=13.331454277038574,disc loss=0.06319015473127365, 0:00:12.76\n",
            "Epoch 23, gen loss=12.141463279724121,disc loss=0.05629529058933258, 0:00:12.78\n",
            "Epoch 24, gen loss=12.905929565429688,disc loss=0.07475237548351288, 0:00:12.75\n",
            "Epoch 25, gen loss=12.755653381347656,disc loss=0.07233525067567825, 0:00:12.74\n",
            "Epoch 26, gen loss=12.17408561706543,disc loss=0.07539607584476471, 0:00:12.76\n",
            "Epoch 27, gen loss=12.747288703918457,disc loss=0.08385926485061646, 0:00:12.75\n",
            "Epoch 28, gen loss=13.310951232910156,disc loss=0.15025362372398376, 0:00:12.78\n",
            "Epoch 29, gen loss=13.505495071411133,disc loss=0.09450480341911316, 0:00:12.75\n",
            "Epoch 30, gen loss=12.54366683959961,disc loss=0.07896564155817032, 0:00:12.76\n",
            "Epoch 31, gen loss=12.196228981018066,disc loss=0.06986817717552185, 0:00:12.76\n",
            "Epoch 32, gen loss=12.750799179077148,disc loss=0.06025504693388939, 0:00:12.76\n",
            "Epoch 33, gen loss=12.69176197052002,disc loss=0.09603704512119293, 0:00:12.77\n",
            "Epoch 34, gen loss=12.799965858459473,disc loss=0.08469098806381226, 0:00:12.77\n",
            "Epoch 35, gen loss=12.573471069335938,disc loss=0.05993996188044548, 0:00:12.75\n",
            "Epoch 36, gen loss=12.260416030883789,disc loss=0.052650198340415955, 0:00:12.75\n",
            "Epoch 37, gen loss=12.388015747070312,disc loss=0.04570763558149338, 0:00:12.75\n",
            "Epoch 38, gen loss=13.153059005737305,disc loss=0.06415673345327377, 0:00:12.75\n",
            "Epoch 39, gen loss=12.973044395446777,disc loss=0.07941289246082306, 0:00:12.77\n",
            "Epoch 40, gen loss=12.51078987121582,disc loss=0.054884087294340134, 0:00:12.75\n",
            "Epoch 41, gen loss=13.425003051757812,disc loss=0.09820766001939774, 0:00:12.76\n",
            "Epoch 42, gen loss=12.842852592468262,disc loss=0.09935913980007172, 0:00:12.74\n",
            "Epoch 43, gen loss=12.80197525024414,disc loss=0.054580315947532654, 0:00:12.75\n",
            "Epoch 44, gen loss=13.401972770690918,disc loss=0.0721869170665741, 0:00:12.77\n",
            "Epoch 45, gen loss=12.836080551147461,disc loss=0.07801581919193268, 0:00:12.77\n",
            "Epoch 46, gen loss=13.433884620666504,disc loss=0.14093174040317535, 0:00:12.74\n",
            "Epoch 47, gen loss=12.261653900146484,disc loss=0.05751490220427513, 0:00:12.75\n",
            "Epoch 48, gen loss=13.223660469055176,disc loss=0.10118264704942703, 0:00:12.76\n",
            "Epoch 49, gen loss=12.944574356079102,disc loss=0.053040117025375366, 0:00:12.78\n",
            "Epoch 50, gen loss=13.74841594696045,disc loss=0.050799690186977386, 0:00:12.76\n",
            "Epoch 51, gen loss=12.82556438446045,disc loss=0.050901737064123154, 0:00:12.76\n",
            "Epoch 52, gen loss=12.804832458496094,disc loss=0.06518369913101196, 0:00:12.74\n",
            "Epoch 53, gen loss=13.361028671264648,disc loss=0.06768950074911118, 0:00:12.74\n",
            "Epoch 54, gen loss=13.688522338867188,disc loss=0.07688292860984802, 0:00:12.77\n",
            "Epoch 55, gen loss=13.282232284545898,disc loss=0.07370495051145554, 0:00:12.76\n",
            "Epoch 56, gen loss=13.313085556030273,disc loss=0.17164075374603271, 0:00:12.75\n",
            "Epoch 57, gen loss=12.815963745117188,disc loss=0.0819726288318634, 0:00:12.75\n",
            "Epoch 58, gen loss=12.645082473754883,disc loss=0.05115673318505287, 0:00:12.75\n",
            "Epoch 59, gen loss=13.300959587097168,disc loss=0.08447924256324768, 0:00:12.76\n",
            "Epoch 60, gen loss=13.064565658569336,disc loss=0.05388062819838524, 0:00:12.75\n",
            "Epoch 61, gen loss=13.640119552612305,disc loss=0.05576782673597336, 0:00:12.77\n",
            "Epoch 62, gen loss=13.021571159362793,disc loss=0.05342657491564751, 0:00:12.73\n",
            "Epoch 63, gen loss=12.206633567810059,disc loss=0.06814275681972504, 0:00:12.74\n",
            "Epoch 64, gen loss=13.17735767364502,disc loss=0.053677450865507126, 0:00:12.77\n",
            "Epoch 65, gen loss=13.421287536621094,disc loss=0.04936551675200462, 0:00:12.76\n",
            "Epoch 66, gen loss=12.971137046813965,disc loss=0.041676994413137436, 0:00:12.73\n",
            "Epoch 67, gen loss=12.87214183807373,disc loss=0.06006648391485214, 0:00:12.75\n",
            "Epoch 68, gen loss=12.769774436950684,disc loss=0.06751169264316559, 0:00:12.76\n",
            "Epoch 69, gen loss=13.389730453491211,disc loss=0.06347743421792984, 0:00:12.75\n",
            "Epoch 70, gen loss=13.319324493408203,disc loss=0.0494740828871727, 0:00:12.76\n",
            "Epoch 71, gen loss=13.095926284790039,disc loss=0.0438532792031765, 0:00:12.74\n",
            "Epoch 72, gen loss=14.04045581817627,disc loss=0.06375700235366821, 0:00:12.74\n",
            "Epoch 73, gen loss=14.94450569152832,disc loss=0.11389610916376114, 0:00:12.75\n",
            "Epoch 74, gen loss=13.055645942687988,disc loss=0.060740385204553604, 0:00:12.75\n",
            "Epoch 75, gen loss=13.675094604492188,disc loss=0.06426549702882767, 0:00:12.77\n",
            "Epoch 76, gen loss=13.963376998901367,disc loss=0.07002995908260345, 0:00:12.75\n",
            "Epoch 77, gen loss=14.043720245361328,disc loss=0.050224706530570984, 0:00:12.76\n",
            "Epoch 78, gen loss=13.120362281799316,disc loss=0.06430808454751968, 0:00:12.75\n",
            "Epoch 79, gen loss=13.39565658569336,disc loss=0.038958847522735596, 0:00:12.75\n",
            "Epoch 80, gen loss=13.735921859741211,disc loss=0.09500341862440109, 0:00:12.79\n",
            "Epoch 81, gen loss=14.174921989440918,disc loss=0.0525701567530632, 0:00:12.77\n",
            "Epoch 82, gen loss=13.184287071228027,disc loss=0.03550751134753227, 0:00:12.76\n",
            "Epoch 83, gen loss=13.18442440032959,disc loss=0.05330886319279671, 0:00:12.75\n",
            "Epoch 84, gen loss=14.104491233825684,disc loss=0.0678466260433197, 0:00:12.75\n",
            "Epoch 85, gen loss=14.088018417358398,disc loss=0.056880369782447815, 0:00:12.76\n",
            "Epoch 86, gen loss=13.012076377868652,disc loss=0.06647609919309616, 0:00:12.77\n",
            "Epoch 87, gen loss=13.56350326538086,disc loss=0.08481277525424957, 0:00:12.75\n",
            "Epoch 88, gen loss=14.281569480895996,disc loss=0.0654321163892746, 0:00:12.75\n",
            "Epoch 89, gen loss=14.771350860595703,disc loss=0.06117231771349907, 0:00:12.76\n",
            "Epoch 90, gen loss=13.805293083190918,disc loss=0.060821980237960815, 0:00:12.75\n",
            "Epoch 91, gen loss=14.490683555603027,disc loss=0.07002400606870651, 0:00:12.77\n",
            "Epoch 92, gen loss=13.227259635925293,disc loss=0.058234766125679016, 0:00:12.75\n",
            "Epoch 93, gen loss=13.742866516113281,disc loss=0.0713856965303421, 0:00:12.74\n",
            "Epoch 94, gen loss=13.176651000976562,disc loss=0.0374128520488739, 0:00:12.74\n",
            "Epoch 95, gen loss=14.280255317687988,disc loss=0.06382091343402863, 0:00:12.74\n",
            "Epoch 96, gen loss=14.110431671142578,disc loss=0.3584270179271698, 0:00:12.78\n",
            "Epoch 97, gen loss=13.429134368896484,disc loss=0.06485220789909363, 0:00:12.76\n",
            "Epoch 98, gen loss=13.34276294708252,disc loss=0.062343280762434006, 0:00:12.76\n",
            "Epoch 99, gen loss=13.552264213562012,disc loss=0.04208093509078026, 0:00:12.75\n",
            "Epoch 100, gen loss=13.351351737976074,disc loss=0.04055235534906387, 0:00:12.76\n",
            "Epoch 101, gen loss=13.882648468017578,disc loss=0.05840733274817467, 0:00:12.77\n",
            "Epoch 102, gen loss=13.697714805603027,disc loss=0.10107921808958054, 0:00:12.75\n",
            "Epoch 103, gen loss=13.699711799621582,disc loss=0.06115563213825226, 0:00:12.77\n",
            "Epoch 104, gen loss=12.93430233001709,disc loss=0.05174420773983002, 0:00:12.76\n",
            "Epoch 105, gen loss=13.683940887451172,disc loss=0.052382692694664, 0:00:12.74\n",
            "Epoch 106, gen loss=14.085306167602539,disc loss=0.07904180139303207, 0:00:12.77\n",
            "Epoch 107, gen loss=13.230804443359375,disc loss=0.04395310953259468, 0:00:12.75\n",
            "Epoch 108, gen loss=14.457231521606445,disc loss=0.05643423646688461, 0:00:12.73\n",
            "Epoch 109, gen loss=14.45438289642334,disc loss=0.05866245552897453, 0:00:12.74\n",
            "Epoch 110, gen loss=13.6893310546875,disc loss=0.05726012587547302, 0:00:12.75\n",
            "Epoch 111, gen loss=14.101868629455566,disc loss=0.05961090698838234, 0:00:12.76\n",
            "Epoch 112, gen loss=14.184861183166504,disc loss=0.08164776116609573, 0:00:12.76\n",
            "Epoch 113, gen loss=14.358960151672363,disc loss=0.0676298514008522, 0:00:12.75\n",
            "Epoch 114, gen loss=15.020339965820312,disc loss=0.059760190546512604, 0:00:12.75\n",
            "Epoch 115, gen loss=13.44483757019043,disc loss=0.038791559636592865, 0:00:12.73\n",
            "Epoch 116, gen loss=14.00019359588623,disc loss=0.038725052028894424, 0:00:12.74\n",
            "Epoch 117, gen loss=14.30053997039795,disc loss=0.056622546166181564, 0:00:12.77\n",
            "Epoch 118, gen loss=14.12020492553711,disc loss=0.07933170348405838, 0:00:12.75\n",
            "Epoch 119, gen loss=13.651374816894531,disc loss=0.06436306983232498, 0:00:12.73\n",
            "Epoch 120, gen loss=14.10887622833252,disc loss=0.04605234041810036, 0:00:12.77\n",
            "Epoch 121, gen loss=13.494044303894043,disc loss=0.05654965341091156, 0:00:12.75\n",
            "Epoch 122, gen loss=14.852408409118652,disc loss=0.0783274695277214, 0:00:12.77\n",
            "Epoch 123, gen loss=14.957192420959473,disc loss=0.2281959503889084, 0:00:12.75\n",
            "Epoch 124, gen loss=13.387540817260742,disc loss=0.06594491750001907, 0:00:12.77\n",
            "Epoch 125, gen loss=13.636550903320312,disc loss=0.05282359570264816, 0:00:12.77\n",
            "Epoch 126, gen loss=13.844054222106934,disc loss=0.051656123250722885, 0:00:12.75\n",
            "Epoch 127, gen loss=14.560985565185547,disc loss=0.04959351569414139, 0:00:12.77\n",
            "Epoch 128, gen loss=14.173891067504883,disc loss=0.08185341209173203, 0:00:12.76\n",
            "Epoch 129, gen loss=14.751824378967285,disc loss=0.06456376612186432, 0:00:12.76\n",
            "Epoch 130, gen loss=14.50734806060791,disc loss=0.06539958715438843, 0:00:12.76\n",
            "Epoch 131, gen loss=13.361144065856934,disc loss=0.04761728271842003, 0:00:12.75\n",
            "Epoch 132, gen loss=14.37179183959961,disc loss=0.05689205229282379, 0:00:12.77\n",
            "Epoch 133, gen loss=14.361284255981445,disc loss=0.11190421879291534, 0:00:12.77\n",
            "Epoch 134, gen loss=14.096963882446289,disc loss=0.04682592675089836, 0:00:12.76\n",
            "Epoch 135, gen loss=14.673315048217773,disc loss=0.05434061214327812, 0:00:12.75\n",
            "Epoch 136, gen loss=15.049627304077148,disc loss=0.06793533265590668, 0:00:12.75\n",
            "Epoch 137, gen loss=14.074270248413086,disc loss=0.042869746685028076, 0:00:12.76\n",
            "Epoch 138, gen loss=13.713297843933105,disc loss=0.05033603310585022, 0:00:12.76\n",
            "Epoch 139, gen loss=14.139900207519531,disc loss=0.0548977293074131, 0:00:12.76\n",
            "Epoch 140, gen loss=14.236170768737793,disc loss=0.07457786798477173, 0:00:12.74\n",
            "Epoch 141, gen loss=14.384977340698242,disc loss=0.050621628761291504, 0:00:12.76\n",
            "Epoch 142, gen loss=14.200092315673828,disc loss=0.04959375783801079, 0:00:12.75\n",
            "Epoch 143, gen loss=15.197959899902344,disc loss=0.09683486074209213, 0:00:12.77\n",
            "Epoch 144, gen loss=13.332828521728516,disc loss=0.04474446922540665, 0:00:12.75\n",
            "Epoch 145, gen loss=15.2183198928833,disc loss=0.03909588232636452, 0:00:12.74\n",
            "Epoch 146, gen loss=14.782821655273438,disc loss=0.055726248770952225, 0:00:12.75\n",
            "Epoch 147, gen loss=14.208312034606934,disc loss=0.07371626794338226, 0:00:12.74\n",
            "Epoch 148, gen loss=15.689834594726562,disc loss=0.0916428342461586, 0:00:12.76\n",
            "Epoch 149, gen loss=14.963835716247559,disc loss=0.05406656861305237, 0:00:12.75\n",
            "Epoch 150, gen loss=13.95372200012207,disc loss=0.04017496854066849, 0:00:12.76\n",
            "Epoch 151, gen loss=14.96388053894043,disc loss=0.0764390379190445, 0:00:12.75\n",
            "Epoch 152, gen loss=14.60551643371582,disc loss=0.04028132185339928, 0:00:12.75\n",
            "Epoch 153, gen loss=15.493159294128418,disc loss=0.05386435240507126, 0:00:12.77\n",
            "Epoch 154, gen loss=14.190485000610352,disc loss=0.0482994019985199, 0:00:12.80\n",
            "Epoch 155, gen loss=15.812521934509277,disc loss=0.26394185423851013, 0:00:12.93\n",
            "Epoch 156, gen loss=14.148493766784668,disc loss=0.0647416040301323, 0:00:12.74\n",
            "Epoch 157, gen loss=15.056452751159668,disc loss=0.04633400961756706, 0:00:12.74\n",
            "Epoch 158, gen loss=13.950356483459473,disc loss=0.06062914431095123, 0:00:12.79\n",
            "Epoch 159, gen loss=14.930215835571289,disc loss=0.07340198755264282, 0:00:12.76\n",
            "Epoch 160, gen loss=14.449706077575684,disc loss=0.06596330553293228, 0:00:12.75\n",
            "Epoch 161, gen loss=13.819581031799316,disc loss=0.04357895255088806, 0:00:12.75\n",
            "Epoch 162, gen loss=14.378182411193848,disc loss=0.06228134408593178, 0:00:12.74\n",
            "Epoch 163, gen loss=14.932357788085938,disc loss=0.06060972809791565, 0:00:12.76\n",
            "Epoch 164, gen loss=14.510984420776367,disc loss=0.05116752162575722, 0:00:12.77\n",
            "Epoch 165, gen loss=13.963449478149414,disc loss=0.047732505947351456, 0:00:12.76\n",
            "Epoch 166, gen loss=15.01383113861084,disc loss=0.0537593737244606, 0:00:12.75\n",
            "Epoch 167, gen loss=14.828534126281738,disc loss=0.04400093853473663, 0:00:12.75\n",
            "Epoch 168, gen loss=15.078242301940918,disc loss=0.05523831024765968, 0:00:12.75\n",
            "Epoch 169, gen loss=15.939626693725586,disc loss=0.06095566228032112, 0:00:12.79\n",
            "Epoch 170, gen loss=14.635979652404785,disc loss=0.04278061166405678, 0:00:12.75\n",
            "Epoch 171, gen loss=15.216196060180664,disc loss=0.0968795120716095, 0:00:12.75\n",
            "Epoch 172, gen loss=13.432087898254395,disc loss=0.04813730716705322, 0:00:12.78\n",
            "Epoch 173, gen loss=14.343090057373047,disc loss=0.08466923981904984, 0:00:12.76\n",
            "Epoch 174, gen loss=14.233695983886719,disc loss=0.04526770859956741, 0:00:12.78\n",
            "Epoch 175, gen loss=14.54573917388916,disc loss=0.03082880564033985, 0:00:12.75\n",
            "Epoch 176, gen loss=15.379523277282715,disc loss=0.038181155920028687, 0:00:12.75\n",
            "Epoch 177, gen loss=15.506237030029297,disc loss=0.1268787533044815, 0:00:12.76\n",
            "Epoch 178, gen loss=15.157066345214844,disc loss=0.044430408626794815, 0:00:12.75\n",
            "Epoch 179, gen loss=15.453330993652344,disc loss=0.04013437777757645, 0:00:12.77\n",
            "Epoch 180, gen loss=15.242756843566895,disc loss=0.07104605436325073, 0:00:12.76\n",
            "Epoch 181, gen loss=14.843204498291016,disc loss=0.049228839576244354, 0:00:12.74\n",
            "Epoch 182, gen loss=15.06282901763916,disc loss=0.06844035536050797, 0:00:12.75\n",
            "Epoch 183, gen loss=14.735913276672363,disc loss=0.05541861429810524, 0:00:12.76\n",
            "Epoch 184, gen loss=14.318538665771484,disc loss=0.04347200319170952, 0:00:12.77\n",
            "Epoch 185, gen loss=14.496354103088379,disc loss=0.03466750308871269, 0:00:12.77\n",
            "Epoch 186, gen loss=15.156982421875,disc loss=0.04558686912059784, 0:00:12.75\n",
            "Epoch 187, gen loss=15.462189674377441,disc loss=0.04668627306818962, 0:00:12.75\n",
            "Epoch 188, gen loss=16.4605770111084,disc loss=0.05415501073002815, 0:00:12.75\n",
            "Epoch 189, gen loss=15.6829195022583,disc loss=0.09011390805244446, 0:00:12.76\n",
            "Epoch 190, gen loss=14.754125595092773,disc loss=0.05492643639445305, 0:00:12.76\n",
            "Epoch 191, gen loss=16.28982925415039,disc loss=0.08126435428857803, 0:00:12.75\n",
            "Epoch 192, gen loss=15.897132873535156,disc loss=0.16445748507976532, 0:00:12.75\n",
            "Epoch 193, gen loss=15.824689865112305,disc loss=0.04062630608677864, 0:00:12.76\n",
            "Epoch 194, gen loss=14.670988082885742,disc loss=0.03271742910146713, 0:00:12.76\n",
            "Epoch 195, gen loss=15.452749252319336,disc loss=0.04771817475557327, 0:00:12.76\n",
            "Epoch 196, gen loss=17.399639129638672,disc loss=0.0746258944272995, 0:00:12.74\n",
            "Epoch 197, gen loss=14.912193298339844,disc loss=0.04852328822016716, 0:00:12.74\n",
            "Epoch 198, gen loss=14.399820327758789,disc loss=0.05166308581829071, 0:00:12.75\n",
            "Epoch 199, gen loss=15.917052268981934,disc loss=0.0593179389834404, 0:00:12.75\n",
            "Epoch 200, gen loss=15.433022499084473,disc loss=0.04967973753809929, 0:00:12.75\n",
            "Training time: 0:43:23.78\n"
          ]
        }
      ],
      "source": [
        "train(train_dataset, EPOCHS)"
      ]
    },
    {
      "cell_type": "markdown",
      "metadata": {
        "id": "Mvir4efcLlwi"
      },
      "source": [
        ""
      ]
    },
    {
      "cell_type": "code",
      "execution_count": null,
      "metadata": {
        "id": "15Hia_feD9sm"
      },
      "outputs": [],
      "source": [
        "generator.save(os.path.join(DATA_PATH,\"face_generator.h5\"))"
      ]
    }
  ],
  "metadata": {
    "anaconda-cloud": {},
    "colab": {
      "collapsed_sections": [],
      "name": "[Keras] GAN_Tutorial.ipynb",
      "provenance": []
    },
    "kernelspec": {
      "display_name": "Python 3.9 (tensorflow)",
      "language": "python",
      "name": "tensorflow"
    },
    "language_info": {
      "codemirror_mode": {
        "name": "ipython",
        "version": 3
      },
      "file_extension": ".py",
      "mimetype": "text/x-python",
      "name": "python",
      "nbconvert_exporter": "python",
      "pygments_lexer": "ipython3",
      "version": "3.9.7"
    },
    "accelerator": "GPU",
    "gpuClass": "standard"
  },
  "nbformat": 4,
  "nbformat_minor": 0
}